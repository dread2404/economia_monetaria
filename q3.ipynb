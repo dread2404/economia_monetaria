{
 "cells": [
  {
   "cell_type": "code",
   "execution_count": 2,
   "metadata": {},
   "outputs": [],
   "source": [
    "import seaborn as sns\n",
    "import pandas as pd\n",
    "\n",
    "import matplotlib.pyplot as plt\n",
    "import matplotlib.dates as mdates"
   ]
  },
  {
   "cell_type": "markdown",
   "metadata": {},
   "source": [
    "# 1. Leitura"
   ]
  },
  {
   "cell_type": "code",
   "execution_count": 3,
   "metadata": {},
   "outputs": [],
   "source": [
    "evolucao_selic = pd.read_csv(r\"bases/q3/evolucao_selic.csv\", sep=\";\")\n",
    "titulos_emitidos_governo = pd.read_csv(r\"bases/q3/titulos_emitidos_governo.csv\", sep=\";\")\n",
    "titulos_detidos_bacen = pd.read_csv(r\"bases/q3/titulos_detidos_bacen.csv\", sep=\";\")"
   ]
  },
  {
   "cell_type": "code",
   "execution_count": 4,
   "metadata": {},
   "outputs": [
    {
     "data": {
      "text/plain": [
       "data      object\n",
       "valor    float64\n",
       "dtype: object"
      ]
     },
     "execution_count": 4,
     "metadata": {},
     "output_type": "execute_result"
    }
   ],
   "source": [
    "evolucao_selic.dtypes"
   ]
  },
  {
   "cell_type": "code",
   "execution_count": 5,
   "metadata": {},
   "outputs": [
    {
     "data": {
      "text/html": [
       "<div>\n",
       "<style scoped>\n",
       "    .dataframe tbody tr th:only-of-type {\n",
       "        vertical-align: middle;\n",
       "    }\n",
       "\n",
       "    .dataframe tbody tr th {\n",
       "        vertical-align: top;\n",
       "    }\n",
       "\n",
       "    .dataframe thead th {\n",
       "        text-align: right;\n",
       "    }\n",
       "</style>\n",
       "<table border=\"1\" class=\"dataframe\">\n",
       "  <thead>\n",
       "    <tr style=\"text-align: right;\">\n",
       "      <th></th>\n",
       "      <th>data</th>\n",
       "      <th>valor</th>\n",
       "    </tr>\n",
       "  </thead>\n",
       "  <tbody>\n",
       "    <tr>\n",
       "      <th>0</th>\n",
       "      <td>17/01/2018</td>\n",
       "      <td>6.9</td>\n",
       "    </tr>\n",
       "    <tr>\n",
       "      <th>1</th>\n",
       "      <td>18/01/2018</td>\n",
       "      <td>6.9</td>\n",
       "    </tr>\n",
       "    <tr>\n",
       "      <th>2</th>\n",
       "      <td>19/01/2018</td>\n",
       "      <td>6.9</td>\n",
       "    </tr>\n",
       "    <tr>\n",
       "      <th>3</th>\n",
       "      <td>22/01/2018</td>\n",
       "      <td>6.9</td>\n",
       "    </tr>\n",
       "    <tr>\n",
       "      <th>4</th>\n",
       "      <td>23/01/2018</td>\n",
       "      <td>6.9</td>\n",
       "    </tr>\n",
       "  </tbody>\n",
       "</table>\n",
       "</div>"
      ],
      "text/plain": [
       "         data  valor\n",
       "0  17/01/2018    6.9\n",
       "1  18/01/2018    6.9\n",
       "2  19/01/2018    6.9\n",
       "3  22/01/2018    6.9\n",
       "4  23/01/2018    6.9"
      ]
     },
     "execution_count": 5,
     "metadata": {},
     "output_type": "execute_result"
    }
   ],
   "source": [
    "evolucao_selic.head()"
   ]
  },
  {
   "cell_type": "code",
   "execution_count": 6,
   "metadata": {},
   "outputs": [
    {
     "data": {
      "text/plain": [
       "data     object\n",
       "valor     int64\n",
       "dtype: object"
      ]
     },
     "execution_count": 6,
     "metadata": {},
     "output_type": "execute_result"
    }
   ],
   "source": [
    "titulos_emitidos_governo.dtypes"
   ]
  },
  {
   "cell_type": "code",
   "execution_count": 7,
   "metadata": {},
   "outputs": [
    {
     "data": {
      "text/html": [
       "<div>\n",
       "<style scoped>\n",
       "    .dataframe tbody tr th:only-of-type {\n",
       "        vertical-align: middle;\n",
       "    }\n",
       "\n",
       "    .dataframe tbody tr th {\n",
       "        vertical-align: top;\n",
       "    }\n",
       "\n",
       "    .dataframe thead th {\n",
       "        text-align: right;\n",
       "    }\n",
       "</style>\n",
       "<table border=\"1\" class=\"dataframe\">\n",
       "  <thead>\n",
       "    <tr style=\"text-align: right;\">\n",
       "      <th></th>\n",
       "      <th>data</th>\n",
       "      <th>valor</th>\n",
       "    </tr>\n",
       "  </thead>\n",
       "  <tbody>\n",
       "    <tr>\n",
       "      <th>0</th>\n",
       "      <td>1 Trim.2018</td>\n",
       "      <td>5316871</td>\n",
       "    </tr>\n",
       "    <tr>\n",
       "      <th>1</th>\n",
       "      <td>2 Trim.2018</td>\n",
       "      <td>5483583</td>\n",
       "    </tr>\n",
       "    <tr>\n",
       "      <th>2</th>\n",
       "      <td>3 Trim.2018</td>\n",
       "      <td>5524099</td>\n",
       "    </tr>\n",
       "    <tr>\n",
       "      <th>3</th>\n",
       "      <td>4 Trim.2018</td>\n",
       "      <td>5636804</td>\n",
       "    </tr>\n",
       "    <tr>\n",
       "      <th>4</th>\n",
       "      <td>1 Trim.2019</td>\n",
       "      <td>5705391</td>\n",
       "    </tr>\n",
       "  </tbody>\n",
       "</table>\n",
       "</div>"
      ],
      "text/plain": [
       "          data    valor\n",
       "0  1 Trim.2018  5316871\n",
       "1  2 Trim.2018  5483583\n",
       "2  3 Trim.2018  5524099\n",
       "3  4 Trim.2018  5636804\n",
       "4  1 Trim.2019  5705391"
      ]
     },
     "execution_count": 7,
     "metadata": {},
     "output_type": "execute_result"
    }
   ],
   "source": [
    "titulos_emitidos_governo.head()"
   ]
  },
  {
   "cell_type": "code",
   "execution_count": 8,
   "metadata": {},
   "outputs": [
    {
     "data": {
      "text/plain": [
       "data     object\n",
       "valor     int64\n",
       "dtype: object"
      ]
     },
     "execution_count": 8,
     "metadata": {},
     "output_type": "execute_result"
    }
   ],
   "source": [
    "titulos_detidos_bacen.dtypes"
   ]
  },
  {
   "cell_type": "code",
   "execution_count": 9,
   "metadata": {},
   "outputs": [
    {
     "data": {
      "text/html": [
       "<div>\n",
       "<style scoped>\n",
       "    .dataframe tbody tr th:only-of-type {\n",
       "        vertical-align: middle;\n",
       "    }\n",
       "\n",
       "    .dataframe tbody tr th {\n",
       "        vertical-align: top;\n",
       "    }\n",
       "\n",
       "    .dataframe thead th {\n",
       "        text-align: right;\n",
       "    }\n",
       "</style>\n",
       "<table border=\"1\" class=\"dataframe\">\n",
       "  <thead>\n",
       "    <tr style=\"text-align: right;\">\n",
       "      <th></th>\n",
       "      <th>data</th>\n",
       "      <th>valor</th>\n",
       "    </tr>\n",
       "  </thead>\n",
       "  <tbody>\n",
       "    <tr>\n",
       "      <th>0</th>\n",
       "      <td>1 Trim.2021</td>\n",
       "      <td>2093818</td>\n",
       "    </tr>\n",
       "    <tr>\n",
       "      <th>1</th>\n",
       "      <td>2 Trim.2021</td>\n",
       "      <td>2115298</td>\n",
       "    </tr>\n",
       "    <tr>\n",
       "      <th>2</th>\n",
       "      <td>3 Trim.2021</td>\n",
       "      <td>2019647</td>\n",
       "    </tr>\n",
       "    <tr>\n",
       "      <th>3</th>\n",
       "      <td>4 Trim.2021</td>\n",
       "      <td>2037702</td>\n",
       "    </tr>\n",
       "    <tr>\n",
       "      <th>4</th>\n",
       "      <td>1 Trim.2022</td>\n",
       "      <td>2042311</td>\n",
       "    </tr>\n",
       "  </tbody>\n",
       "</table>\n",
       "</div>"
      ],
      "text/plain": [
       "          data    valor\n",
       "0  1 Trim.2021  2093818\n",
       "1  2 Trim.2021  2115298\n",
       "2  3 Trim.2021  2019647\n",
       "3  4 Trim.2021  2037702\n",
       "4  1 Trim.2022  2042311"
      ]
     },
     "execution_count": 9,
     "metadata": {},
     "output_type": "execute_result"
    }
   ],
   "source": [
    "titulos_detidos_bacen.head()"
   ]
  },
  {
   "cell_type": "markdown",
   "metadata": {},
   "source": [
    "# 1.1 Ajuste das Tabelas"
   ]
  },
  {
   "cell_type": "code",
   "execution_count": 10,
   "metadata": {},
   "outputs": [
    {
     "data": {
      "text/html": [
       "<div>\n",
       "<style scoped>\n",
       "    .dataframe tbody tr th:only-of-type {\n",
       "        vertical-align: middle;\n",
       "    }\n",
       "\n",
       "    .dataframe tbody tr th {\n",
       "        vertical-align: top;\n",
       "    }\n",
       "\n",
       "    .dataframe thead th {\n",
       "        text-align: right;\n",
       "    }\n",
       "</style>\n",
       "<table border=\"1\" class=\"dataframe\">\n",
       "  <thead>\n",
       "    <tr style=\"text-align: right;\">\n",
       "      <th></th>\n",
       "      <th>data</th>\n",
       "      <th>valor</th>\n",
       "    </tr>\n",
       "  </thead>\n",
       "  <tbody>\n",
       "    <tr>\n",
       "      <th>0</th>\n",
       "      <td>17/01/2018</td>\n",
       "      <td>6.90</td>\n",
       "    </tr>\n",
       "    <tr>\n",
       "      <th>1</th>\n",
       "      <td>18/01/2018</td>\n",
       "      <td>6.90</td>\n",
       "    </tr>\n",
       "    <tr>\n",
       "      <th>2</th>\n",
       "      <td>19/01/2018</td>\n",
       "      <td>6.90</td>\n",
       "    </tr>\n",
       "    <tr>\n",
       "      <th>3</th>\n",
       "      <td>22/01/2018</td>\n",
       "      <td>6.90</td>\n",
       "    </tr>\n",
       "    <tr>\n",
       "      <th>4</th>\n",
       "      <td>23/01/2018</td>\n",
       "      <td>6.90</td>\n",
       "    </tr>\n",
       "    <tr>\n",
       "      <th>...</th>\n",
       "      <td>...</td>\n",
       "      <td>...</td>\n",
       "    </tr>\n",
       "    <tr>\n",
       "      <th>1792</th>\n",
       "      <td>10/03/2025</td>\n",
       "      <td>13.15</td>\n",
       "    </tr>\n",
       "    <tr>\n",
       "      <th>1793</th>\n",
       "      <td>11/03/2025</td>\n",
       "      <td>13.15</td>\n",
       "    </tr>\n",
       "    <tr>\n",
       "      <th>1794</th>\n",
       "      <td>12/03/2025</td>\n",
       "      <td>13.15</td>\n",
       "    </tr>\n",
       "    <tr>\n",
       "      <th>1795</th>\n",
       "      <td>13/03/2025</td>\n",
       "      <td>13.15</td>\n",
       "    </tr>\n",
       "    <tr>\n",
       "      <th>1796</th>\n",
       "      <td>14/03/2025</td>\n",
       "      <td>13.15</td>\n",
       "    </tr>\n",
       "  </tbody>\n",
       "</table>\n",
       "<p>1797 rows × 2 columns</p>\n",
       "</div>"
      ],
      "text/plain": [
       "            data  valor\n",
       "0     17/01/2018   6.90\n",
       "1     18/01/2018   6.90\n",
       "2     19/01/2018   6.90\n",
       "3     22/01/2018   6.90\n",
       "4     23/01/2018   6.90\n",
       "...          ...    ...\n",
       "1792  10/03/2025  13.15\n",
       "1793  11/03/2025  13.15\n",
       "1794  12/03/2025  13.15\n",
       "1795  13/03/2025  13.15\n",
       "1796  14/03/2025  13.15\n",
       "\n",
       "[1797 rows x 2 columns]"
      ]
     },
     "execution_count": 10,
     "metadata": {},
     "output_type": "execute_result"
    }
   ],
   "source": [
    "evolucao_selic"
   ]
  },
  {
   "cell_type": "code",
   "execution_count": 11,
   "metadata": {},
   "outputs": [
    {
     "data": {
      "text/html": [
       "<div>\n",
       "<style scoped>\n",
       "    .dataframe tbody tr th:only-of-type {\n",
       "        vertical-align: middle;\n",
       "    }\n",
       "\n",
       "    .dataframe tbody tr th {\n",
       "        vertical-align: top;\n",
       "    }\n",
       "\n",
       "    .dataframe thead th {\n",
       "        text-align: right;\n",
       "    }\n",
       "</style>\n",
       "<table border=\"1\" class=\"dataframe\">\n",
       "  <thead>\n",
       "    <tr style=\"text-align: right;\">\n",
       "      <th></th>\n",
       "      <th>data</th>\n",
       "      <th>valor</th>\n",
       "    </tr>\n",
       "  </thead>\n",
       "  <tbody>\n",
       "    <tr>\n",
       "      <th>0</th>\n",
       "      <td>2018-01-17</td>\n",
       "      <td>6.9</td>\n",
       "    </tr>\n",
       "    <tr>\n",
       "      <th>1</th>\n",
       "      <td>2018-01-18</td>\n",
       "      <td>6.9</td>\n",
       "    </tr>\n",
       "    <tr>\n",
       "      <th>2</th>\n",
       "      <td>2018-01-19</td>\n",
       "      <td>6.9</td>\n",
       "    </tr>\n",
       "    <tr>\n",
       "      <th>3</th>\n",
       "      <td>2018-01-22</td>\n",
       "      <td>6.9</td>\n",
       "    </tr>\n",
       "    <tr>\n",
       "      <th>4</th>\n",
       "      <td>2018-01-23</td>\n",
       "      <td>6.9</td>\n",
       "    </tr>\n",
       "  </tbody>\n",
       "</table>\n",
       "</div>"
      ],
      "text/plain": [
       "        data  valor\n",
       "0 2018-01-17    6.9\n",
       "1 2018-01-18    6.9\n",
       "2 2018-01-19    6.9\n",
       "3 2018-01-22    6.9\n",
       "4 2018-01-23    6.9"
      ]
     },
     "execution_count": 11,
     "metadata": {},
     "output_type": "execute_result"
    }
   ],
   "source": [
    "evolucao_selic['data'] = pd.to_datetime(evolucao_selic['data'], format='%d/%m/%Y')\n",
    "evolucao_selic.head()"
   ]
  },
  {
   "cell_type": "code",
   "execution_count": 12,
   "metadata": {},
   "outputs": [
    {
     "data": {
      "text/plain": [
       "data     datetime64[ns]\n",
       "valor           float64\n",
       "dtype: object"
      ]
     },
     "execution_count": 12,
     "metadata": {},
     "output_type": "execute_result"
    }
   ],
   "source": [
    "evolucao_selic.dtypes"
   ]
  },
  {
   "cell_type": "markdown",
   "metadata": {},
   "source": [
    "# 2. Análise de Nulos"
   ]
  },
  {
   "cell_type": "code",
   "execution_count": 13,
   "metadata": {},
   "outputs": [
    {
     "data": {
      "text/plain": [
       "data     0.0\n",
       "valor    0.0\n",
       "dtype: float64"
      ]
     },
     "execution_count": 13,
     "metadata": {},
     "output_type": "execute_result"
    }
   ],
   "source": [
    "evolucao_selic.isna().sum() / len(evolucao_selic)"
   ]
  },
  {
   "cell_type": "code",
   "execution_count": 14,
   "metadata": {},
   "outputs": [
    {
     "data": {
      "text/plain": [
       "data     0.0\n",
       "valor    0.0\n",
       "dtype: float64"
      ]
     },
     "execution_count": 14,
     "metadata": {},
     "output_type": "execute_result"
    }
   ],
   "source": [
    "titulos_emitidos_governo.isna().sum() / len(titulos_emitidos_governo)"
   ]
  },
  {
   "cell_type": "code",
   "execution_count": 15,
   "metadata": {},
   "outputs": [
    {
     "data": {
      "text/plain": [
       "data     0.0\n",
       "valor    0.0\n",
       "dtype: float64"
      ]
     },
     "execution_count": 15,
     "metadata": {},
     "output_type": "execute_result"
    }
   ],
   "source": [
    "titulos_detidos_bacen.isna().sum() / len(titulos_detidos_bacen)"
   ]
  },
  {
   "cell_type": "markdown",
   "metadata": {},
   "source": [
    "# 3. Análise"
   ]
  },
  {
   "cell_type": "markdown",
   "metadata": {},
   "source": [
    "## 3.1 Selic ao Longo do Tempo"
   ]
  },
  {
   "cell_type": "code",
   "execution_count": 16,
   "metadata": {},
   "outputs": [],
   "source": [
    "evolucao_selic = evolucao_selic[evolucao_selic['data'] >= '2022-06-01']"
   ]
  },
  {
   "cell_type": "code",
   "execution_count": 17,
   "metadata": {},
   "outputs": [
    {
     "data": {
      "image/png": "[encoded data removed]",
      "text/plain": [
       "<Figure size 1200x600 with 1 Axes>"
      ]
     },
     "metadata": {},
     "output_type": "display_data"
    }
   ],
   "source": [
    "plt.figure(figsize=(12,6))\n",
    "\n",
    "sns.lineplot(x=\"data\", y=\"valor\", data=evolucao_selic)\n",
    "\n",
    "plt.title('Taxa Selic ao Longo do Tempo')\n",
    "plt.xlabel('Período')\n",
    "plt.ylabel('Taxa Selic (%)')\n",
    "\n",
    "plt.ylim(0, 16)\n",
    "plt.xticks(rotation=45)\n",
    "plt.axhline(y=0, color='black', linewidth=4)\n",
    "plt.axvline(x=pd.Timestamp('2022-06-01'), color='black', linewidth=4)\n",
    "\n",
    "plt.xlim(pd.Timestamp('2022-06-01'), pd.Timestamp('2025-03-01'))\n",
    "plt.gca().xaxis.set_major_formatter(mdates.DateFormatter('%m/%Y'))\n",
    "plt.gca().xaxis.set_major_locator(mdates.MonthLocator(interval=3))\n",
    "\n",
    "plt.gca().spines['left'].set_visible(True)\n",
    "plt.gca().spines['top'].set_visible(False)\n",
    "plt.gca().spines['right'].set_visible(False)\n",
    "plt.gca().spines['bottom'].set_visible(True)\n",
    "\n",
    "plt.grid(False)"
   ]
  },
  {
   "cell_type": "markdown",
   "metadata": {},
   "source": [
    "# 3.2 Título Emitidos"
   ]
  },
  {
   "cell_type": "code",
   "execution_count": 18,
   "metadata": {},
   "outputs": [
    {
     "data": {
      "image/png": "[encoded data removed]",
      "text/plain": [
       "<Figure size 1200x600 with 1 Axes>"
      ]
     },
     "metadata": {},
     "output_type": "display_data"
    }
   ],
   "source": [
    "titulos_emitidos_governo[\"valor\"] = titulos_emitidos_governo[\"valor\"] / (10**6)\n",
    "titulos_emitidos_governo = titulos_emitidos_governo.iloc[17:]\n",
    "\n",
    "plt.figure(figsize=(12,6))\n",
    "\n",
    "sns.lineplot(x=\"data\", y=\"valor\", data=titulos_emitidos_governo, marker=\"o\")\n",
    "\n",
    "plt.title('Títulos Emitidos pelo Governo ao Longo do Tempo')\n",
    "plt.xlabel('Período')\n",
    "plt.ylabel('Valor (Milhões de Reais)')\n",
    "\n",
    "plt.ylim(0, 12)\n",
    "plt.xlim(\"2 Trim.2022\", \"4 Trim.2024\")\n",
    "\n",
    "plt.xticks(rotation=45)\n",
    "\n",
    "plt.axhline(y=0, color='black', linewidth=4)\n",
    "plt.axvline(x=\"2 Trim.2022\",color='black', linewidth=4)\n",
    "\n",
    "\n",
    "plt.gca().spines['left'].set_visible(True)\n",
    "plt.gca().spines['top'].set_visible(False)\n",
    "plt.gca().spines['right'].set_visible(False)\n",
    "plt.gca().spines['bottom'].set_visible(True)\n",
    "\n",
    "plt.grid(False)\n"
   ]
  },
  {
   "cell_type": "markdown",
   "metadata": {},
   "source": [
    "# 3.3 Títulos Detidos"
   ]
  },
  {
   "cell_type": "code",
   "execution_count": 19,
   "metadata": {},
   "outputs": [
    {
     "data": {
      "image/png": "[encoded data removed]",
      "text/plain": [
       "<Figure size 1200x600 with 1 Axes>"
      ]
     },
     "metadata": {},
     "output_type": "display_data"
    }
   ],
   "source": [
    "titulos_detidos_bacen[\"valor\"] = titulos_detidos_bacen[\"valor\"] / (10**6)\n",
    "titulos_detidos_bacen = titulos_detidos_bacen.iloc[5:]\n",
    "\n",
    "plt.figure(figsize=(12,6))\n",
    "\n",
    "sns.lineplot(x=\"data\", y=\"valor\", data=titulos_detidos_bacen, marker=\"o\")\n",
    "\n",
    "plt.title('Títulos Detidos pelo Banco Central ao Longo do Tempo')\n",
    "plt.xlabel('Período')\n",
    "plt.ylabel('Valor (Milhões de Reais)')\n",
    "\n",
    "plt.ylim(0, 3)\n",
    "plt.xlim(\"2 Trim.2022\", \"4 Trim.2024\")\n",
    "\n",
    "plt.xticks(rotation=45)\n",
    "plt.axhline(y=0, color='black', linewidth=4)\n",
    "plt.axvline(x=\"2 Trim.2022\",color='black', linewidth=4)\n",
    "\n",
    "\n",
    "plt.gca().spines['left'].set_visible(True)\n",
    "plt.gca().spines['top'].set_visible(False)\n",
    "plt.gca().spines['right'].set_visible(False)\n",
    "plt.gca().spines['bottom'].set_visible(True)\n",
    "\n",
    "plt.grid(False)"
   ]
  },
  {
   "cell_type": "code",
   "execution_count": 23,
   "metadata": {},
   "outputs": [
    {
     "data": {
      "image/png": "[encoded data removed]",
      "text/plain": [
       "<Figure size 1200x600 with 1 Axes>"
      ]
     },
     "metadata": {},
     "output_type": "display_data"
    }
   ],
   "source": [
    "titulos_emitidos_governo[\"titulos_emitidos_governo\"] = titulos_emitidos_governo[\"valor\"]\n",
    "titulos_detidos_bacen[\"titulos_detidos_bacen\"] = titulos_detidos_bacen[\"valor\"]\n",
    "\n",
    "percentual = titulos_emitidos_governo.merge(titulos_detidos_bacen, on=\"data\", how=\"inner\")\n",
    "percentual.drop(columns=[\"valor_x\", \"valor_y\"], inplace=True)\n",
    "\n",
    "percentual[\"percentual\"] = percentual[\"titulos_detidos_bacen\"] / percentual[\"titulos_emitidos_governo\"]\n",
    "\n",
    "plt.figure(figsize=(12,6))\n",
    "\n",
    "sns.lineplot(x=\"data\", y=\"percentual\", data=percentual, marker=\"o\")\n",
    "\n",
    "plt.title('Proporção de Títulos em posse do Bacen')\n",
    "plt.xlabel('Período')\n",
    "plt.ylabel('')\n",
    "\n",
    "plt.ylim(0, .3)\n",
    "plt.xlim(\"2 Trim.2022\", \"4 Trim.2024\")\n",
    "\n",
    "plt.xticks(rotation=45)\n",
    "\n",
    "plt.axhline(y=0, color='black', linewidth=4)\n",
    "plt.axvline(x=\"2 Trim.2022\",color='black', linewidth=4)\n",
    "\n",
    "\n",
    "plt.gca().spines['left'].set_visible(True)\n",
    "plt.gca().spines['top'].set_visible(False)\n",
    "plt.gca().spines['right'].set_visible(False)\n",
    "plt.gca().spines['bottom'].set_visible(True)\n",
    "\n",
    "plt.grid(False)\n"
   ]
  },
  {
   "cell_type": "code",
   "execution_count": 21,
   "metadata": {},
   "outputs": [],
   "source": [
    "percentual[\"delta\"] = percentual[\"percentual\"].pct_change()"
   ]
  },
  {
   "cell_type": "code",
   "execution_count": 22,
   "metadata": {},
   "outputs": [
    {
     "data": {
      "text/html": [
       "<div>\n",
       "<style scoped>\n",
       "    .dataframe tbody tr th:only-of-type {\n",
       "        vertical-align: middle;\n",
       "    }\n",
       "\n",
       "    .dataframe tbody tr th {\n",
       "        vertical-align: top;\n",
       "    }\n",
       "\n",
       "    .dataframe thead th {\n",
       "        text-align: right;\n",
       "    }\n",
       "</style>\n",
       "<table border=\"1\" class=\"dataframe\">\n",
       "  <thead>\n",
       "    <tr style=\"text-align: right;\">\n",
       "      <th></th>\n",
       "      <th>data</th>\n",
       "      <th>titulos_emitidos_governo</th>\n",
       "      <th>titulos_detidos_bacen</th>\n",
       "      <th>percentual</th>\n",
       "      <th>delta</th>\n",
       "    </tr>\n",
       "  </thead>\n",
       "  <tbody>\n",
       "    <tr>\n",
       "      <th>0</th>\n",
       "      <td>2 Trim.2022</td>\n",
       "      <td>7.899862</td>\n",
       "      <td>2.056274</td>\n",
       "      <td>0.260292</td>\n",
       "      <td>NaN</td>\n",
       "    </tr>\n",
       "    <tr>\n",
       "      <th>1</th>\n",
       "      <td>3 Trim.2022</td>\n",
       "      <td>7.747531</td>\n",
       "      <td>2.026282</td>\n",
       "      <td>0.261539</td>\n",
       "      <td>0.004789</td>\n",
       "    </tr>\n",
       "    <tr>\n",
       "      <th>2</th>\n",
       "      <td>4 Trim.2022</td>\n",
       "      <td>8.055479</td>\n",
       "      <td>2.093673</td>\n",
       "      <td>0.259907</td>\n",
       "      <td>-0.006241</td>\n",
       "    </tr>\n",
       "    <tr>\n",
       "      <th>3</th>\n",
       "      <td>1 Trim.2023</td>\n",
       "      <td>8.044289</td>\n",
       "      <td>2.156737</td>\n",
       "      <td>0.268108</td>\n",
       "      <td>0.031554</td>\n",
       "    </tr>\n",
       "    <tr>\n",
       "      <th>4</th>\n",
       "      <td>2 Trim.2023</td>\n",
       "      <td>8.396643</td>\n",
       "      <td>2.338169</td>\n",
       "      <td>0.278465</td>\n",
       "      <td>0.038630</td>\n",
       "    </tr>\n",
       "    <tr>\n",
       "      <th>5</th>\n",
       "      <td>3 Trim.2023</td>\n",
       "      <td>8.300576</td>\n",
       "      <td>2.319429</td>\n",
       "      <td>0.279430</td>\n",
       "      <td>0.003466</td>\n",
       "    </tr>\n",
       "    <tr>\n",
       "      <th>6</th>\n",
       "      <td>4 Trim.2023</td>\n",
       "      <td>8.782488</td>\n",
       "      <td>2.409489</td>\n",
       "      <td>0.274352</td>\n",
       "      <td>-0.018174</td>\n",
       "    </tr>\n",
       "    <tr>\n",
       "      <th>7</th>\n",
       "      <td>1 Trim.2024</td>\n",
       "      <td>8.973783</td>\n",
       "      <td>2.461006</td>\n",
       "      <td>0.274244</td>\n",
       "      <td>-0.000392</td>\n",
       "    </tr>\n",
       "    <tr>\n",
       "      <th>8</th>\n",
       "      <td>2 Trim.2024</td>\n",
       "      <td>9.437724</td>\n",
       "      <td>2.425437</td>\n",
       "      <td>0.256994</td>\n",
       "      <td>-0.062901</td>\n",
       "    </tr>\n",
       "    <tr>\n",
       "      <th>9</th>\n",
       "      <td>3 Trim.2024</td>\n",
       "      <td>9.346931</td>\n",
       "      <td>2.428600</td>\n",
       "      <td>0.259829</td>\n",
       "      <td>0.011030</td>\n",
       "    </tr>\n",
       "  </tbody>\n",
       "</table>\n",
       "</div>"
      ],
      "text/plain": [
       "          data  titulos_emitidos_governo  titulos_detidos_bacen  percentual  \\\n",
       "0  2 Trim.2022                  7.899862               2.056274    0.260292   \n",
       "1  3 Trim.2022                  7.747531               2.026282    0.261539   \n",
       "2  4 Trim.2022                  8.055479               2.093673    0.259907   \n",
       "3  1 Trim.2023                  8.044289               2.156737    0.268108   \n",
       "4  2 Trim.2023                  8.396643               2.338169    0.278465   \n",
       "5  3 Trim.2023                  8.300576               2.319429    0.279430   \n",
       "6  4 Trim.2023                  8.782488               2.409489    0.274352   \n",
       "7  1 Trim.2024                  8.973783               2.461006    0.274244   \n",
       "8  2 Trim.2024                  9.437724               2.425437    0.256994   \n",
       "9  3 Trim.2024                  9.346931               2.428600    0.259829   \n",
       "\n",
       "      delta  \n",
       "0       NaN  \n",
       "1  0.004789  \n",
       "2 -0.006241  \n",
       "3  0.031554  \n",
       "4  0.038630  \n",
       "5  0.003466  \n",
       "6 -0.018174  \n",
       "7 -0.000392  \n",
       "8 -0.062901  \n",
       "9  0.011030  "
      ]
     },
     "execution_count": 22,
     "metadata": {},
     "output_type": "execute_result"
    }
   ],
   "source": [
    "percentual"
   ]
  }
 ],
 "metadata": {
  "kernelspec": {
   "display_name": "Python 3",
   "language": "python",
   "name": "python3"
  },
  "language_info": {
   "codemirror_mode": {
    "name": "ipython",
    "version": 3
   },
   "file_extension": ".py",
   "mimetype": "text/x-python",
   "name": "python",
   "nbconvert_exporter": "python",
   "pygments_lexer": "ipython3",
   "version": "3.11.5"
  }
 },
 "nbformat": 4,
 "nbformat_minor": 2
}
